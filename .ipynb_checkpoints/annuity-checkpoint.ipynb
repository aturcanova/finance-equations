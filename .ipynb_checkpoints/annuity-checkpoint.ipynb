{
 "cells": [
  {
   "cell_type": "code",
   "execution_count": 1,
   "metadata": {},
   "outputs": [],
   "source": [
    "from sympy import *"
   ]
  },
  {
   "cell_type": "code",
   "execution_count": 2,
   "metadata": {},
   "outputs": [],
   "source": [
    "C, Cdue, N, n, m, r, q, w, g, d, FV, PV = var('C Cdue N n m r q w g d FV PV')"
   ]
  },
  {
   "cell_type": "code",
   "execution_count": 16,
   "metadata": {},
   "outputs": [],
   "source": [
    "C = C\n",
    "Cdue = Cdue\n",
    "n = n\n",
    "m = m \n",
    "N = N\n",
    "r = r\n",
    "q = 1 + r\n",
    "w = w\n",
    "g = 1 + w\n",
    "d = d\n",
    "FV = FV\n",
    "PV = PV\n"
   ]
  },
  {
   "cell_type": "code",
   "execution_count": 14,
   "metadata": {},
   "outputs": [],
   "source": [
    "const_immediate_FV = Eq(FV, (C * ((q**N) - 1) / (q - 1)))\n",
    "\n",
    "const_immediate_PV = Eq(PV, (C * (1 / (q**N)) * ((q**N) - 1) / (q - 1)))\n",
    "\n",
    "const_due_FV = Eq(FV, (Cdue * q * ((q**N) - 1) / (q - 1)))\n",
    "\n",
    "const_due_PV = Eq(PV, (Cdue * (1 / q**(N - 1)) * ((q**N) - 1) / (q - 1)))\n",
    "\n",
    "arithm_immediate_FV = Eq(FV, ((C + d / (q - 1)) * ((q ** N - 1) / (q - 1)) - N * d / (q - 1)))\n",
    "\n",
    "arithm_immediate_PV = Eq(PV, ((C + d / (q - 1)) * ((q ** N - 1) / (q ** N * (q - 1))) - N * d / (q ** N * (q - 1))))\n",
    "\n",
    "arithm_due_FV = Eq(FV, ((Cdue + d / (q - 1)) * (q * (q ** N - 1) / (q - 1)) - N * d * q / (q - 1)))\n",
    "\n",
    "arithm_due_PV = Eq(PV, ((Cdue + d / (q - 1)) * ((q ** N - 1) / (q ** (N - 1) * (q - 1))) - N * d / (q ** (N - 1) * (q - 1))))\n"
   ]
  },
  {
   "cell_type": "markdown",
   "metadata": {},
   "source": [
    "## Constant anuity"
   ]
  },
  {
   "cell_type": "markdown",
   "metadata": {},
   "source": [
    "### Immediate - FV"
   ]
  },
  {
   "cell_type": "code",
   "execution_count": 15,
   "metadata": {},
   "outputs": [
    {
     "data": {
      "text/plain": [
       "[C*((r + 1)**N - 1)/r]"
      ]
     },
     "execution_count": 15,
     "metadata": {},
     "output_type": "execute_result"
    }
   ],
   "source": [
    "result = solve(const_immediate_FV, FV)\n",
    "result"
   ]
  },
  {
   "cell_type": "markdown",
   "metadata": {},
   "source": [
    "### Immediate - PV"
   ]
  },
  {
   "cell_type": "code",
   "execution_count": 6,
   "metadata": {},
   "outputs": [
    {
     "data": {
      "text/plain": [
       "[C*q**(-N)*(q**N - 1)/(q - 1)]"
      ]
     },
     "execution_count": 6,
     "metadata": {},
     "output_type": "execute_result"
    }
   ],
   "source": [
    "result = solve(const_immediate_PV, PV)\n",
    "result"
   ]
  },
  {
   "cell_type": "markdown",
   "metadata": {},
   "source": [
    "### Due - FV"
   ]
  },
  {
   "cell_type": "code",
   "execution_count": 7,
   "metadata": {},
   "outputs": [
    {
     "data": {
      "text/plain": [
       "[Cdue*(-q + q**(N + 1))/(q - 1)]"
      ]
     },
     "execution_count": 7,
     "metadata": {},
     "output_type": "execute_result"
    }
   ],
   "source": [
    "result = solve(const_due_FV, FV)\n",
    "result"
   ]
  },
  {
   "cell_type": "markdown",
   "metadata": {},
   "source": [
    "### Due - PV"
   ]
  },
  {
   "cell_type": "code",
   "execution_count": 8,
   "metadata": {},
   "outputs": [
    {
     "data": {
      "text/plain": [
       "[Cdue*(q - q**(1 - N))/(q - 1)]"
      ]
     },
     "execution_count": 8,
     "metadata": {},
     "output_type": "execute_result"
    }
   ],
   "source": [
    "result = solve(const_due_PV, PV)\n",
    "result"
   ]
  },
  {
   "cell_type": "markdown",
   "metadata": {},
   "source": [
    "## Arithmetically growing annuity"
   ]
  },
  {
   "cell_type": "markdown",
   "metadata": {},
   "source": [
    "### Immediate - FV"
   ]
  },
  {
   "cell_type": "code",
   "execution_count": 9,
   "metadata": {},
   "outputs": [
    {
     "data": {
      "text/plain": [
       "[(-C*q - C*q**N + C*q**(N + 1) + C - N*d*q + N*d + d*q**N - d)/(q**2 - 2*q + 1)]"
      ]
     },
     "execution_count": 9,
     "metadata": {},
     "output_type": "execute_result"
    }
   ],
   "source": [
    "result = solve(arithm_immediate_FV, FV)\n",
    "result"
   ]
  },
  {
   "cell_type": "markdown",
   "metadata": {},
   "source": [
    "### Immediate - PV"
   ]
  },
  {
   "cell_type": "code",
   "execution_count": 10,
   "metadata": {},
   "outputs": [
    {
     "data": {
      "text/plain": [
       "[q**(-N)*(-C*q - C*q**N + C*q**(N + 1) + C - N*d*q + N*d + d*q**N - d)/(q**2 - 2*q + 1)]"
      ]
     },
     "execution_count": 10,
     "metadata": {},
     "output_type": "execute_result"
    }
   ],
   "source": [
    "result = solve(arithm_immediate_PV, PV)\n",
    "result"
   ]
  },
  {
   "cell_type": "markdown",
   "metadata": {},
   "source": [
    "### Due - FV"
   ]
  },
  {
   "cell_type": "code",
   "execution_count": 11,
   "metadata": {},
   "outputs": [
    {
     "data": {
      "text/plain": [
       "[q*(-Cdue*q - Cdue*q**N + Cdue*q**(N + 1) + Cdue - N*d*q + N*d + d*q**N - d)/(q**2 - 2*q + 1)]"
      ]
     },
     "execution_count": 11,
     "metadata": {},
     "output_type": "execute_result"
    }
   ],
   "source": [
    "result = solve(arithm_due_FV, FV)\n",
    "result"
   ]
  },
  {
   "cell_type": "markdown",
   "metadata": {},
   "source": [
    "### Due - PV"
   ]
  },
  {
   "cell_type": "code",
   "execution_count": 12,
   "metadata": {},
   "outputs": [
    {
     "data": {
      "text/plain": [
       "[q**(1 - N)*(-Cdue*q - Cdue*q**N + Cdue*q**(N + 1) + Cdue - N*d*q + N*d + d*q**N - d)/(q**2 - 2*q + 1)]"
      ]
     },
     "execution_count": 12,
     "metadata": {},
     "output_type": "execute_result"
    }
   ],
   "source": [
    "result = solve(arithm_due_PV, PV)\n",
    "result\n"
   ]
  }
 ],
 "metadata": {
  "kernelspec": {
   "display_name": "Python 3",
   "language": "python",
   "name": "python3"
  },
  "language_info": {
   "codemirror_mode": {
    "name": "ipython",
    "version": 3
   },
   "file_extension": ".py",
   "mimetype": "text/x-python",
   "name": "python",
   "nbconvert_exporter": "python",
   "pygments_lexer": "ipython3",
   "version": "3.7.4"
  }
 },
 "nbformat": 4,
 "nbformat_minor": 1
}
