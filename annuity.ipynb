{
 "cells": [
  {
   "cell_type": "code",
   "execution_count": 1,
   "metadata": {
    "pycharm": {
     "name": "#%%\n"
    }
   },
   "outputs": [],
   "source": [
    "from sympy import *"
   ]
  },
  {
   "cell_type": "code",
   "execution_count": 2,
   "metadata": {
    "pycharm": {
     "name": "#%%\n"
    }
   },
   "outputs": [],
   "source": [
    "C, Cdue, N, n, m, r, q, w, g, d, FV, PV = var('C Cdue N n m r q w g d FV PV')"
   ]
  },
  {
   "cell_type": "code",
   "execution_count": 7,
   "metadata": {
    "pycharm": {
     "name": "#%%\n"
    }
   },
   "outputs": [],
   "source": [
    "C = C\n",
    "Cdue = 25\n",
    "n = n\n",
    "m = 12 \n",
    "N = n * m\n",
    "r = 0.06 / m\n",
    "q = 1 + r\n",
    "w = w\n",
    "g = 1 + w\n",
    "d = d\n",
    "FV = 1500\n",
    "PV = PV\n"
   ]
  },
  {
   "cell_type": "code",
   "execution_count": 8,
   "metadata": {
    "pycharm": {
     "name": "#%%\n"
    }
   },
   "outputs": [],
   "source": [
    "const_immediate_FV = Eq(FV, (C * ((q**N) - 1) / (q - 1)))\n",
    "\n",
    "const_immediate_PV = Eq(PV, (C * (1 / (q**N)) * ((q**N) - 1) / (q - 1)))\n",
    "\n",
    "const_due_FV = Eq(FV, (Cdue * q * ((q**N) - 1) / (q - 1)))\n",
    "\n",
    "const_due_PV = Eq(PV, (Cdue * (1 / q**(N - 1)) * ((q**N) - 1) / (q - 1)))\n",
    "\n",
    "arithm_immediate_FV = Eq(FV, ((C + d / (q - 1)) * ((q ** N - 1) / (q - 1)) - N * d / (q - 1)))\n",
    "\n",
    "arithm_immediate_PV = Eq(PV, ((C + d / (q - 1)) * ((q ** N - 1) / (q ** N * (q - 1))) - N * d / (q ** N * (q - 1))))\n",
    "\n",
    "arithm_due_FV = Eq(FV, ((Cdue + d / (q - 1)) * (q * (q ** N - 1) / (q - 1)) - N * d * q / (q - 1)))\n",
    "\n",
    "arithm_due_PV = Eq(PV, ((Cdue + d / (q - 1)) * ((q ** N - 1) / (q ** (N - 1) * (q - 1))) - N * d / (q ** (N - 1) * (q - 1))))\n"
   ]
  },
  {
   "cell_type": "markdown",
   "metadata": {},
   "source": [
    "## Constant anuity"
   ]
  },
  {
   "cell_type": "markdown",
   "metadata": {},
   "source": [
    "### Immediate - FV"
   ]
  },
  {
   "cell_type": "code",
   "execution_count": null,
   "metadata": {
    "pycharm": {
     "name": "#%%\n"
    }
   },
   "outputs": [],
   "source": [
    "result = solve(const_immediate_FV, FV)\n",
    "result"
   ]
  },
  {
   "cell_type": "markdown",
   "metadata": {},
   "source": [
    "### Immediate - PV"
   ]
  },
  {
   "cell_type": "code",
   "execution_count": null,
   "metadata": {
    "pycharm": {
     "name": "#%%\n"
    }
   },
   "outputs": [],
   "source": [
    "result = solve(const_immediate_PV, PV)\n",
    "result"
   ]
  },
  {
   "cell_type": "markdown",
   "metadata": {},
   "source": [
    "### Due - FV"
   ]
  },
  {
   "cell_type": "code",
   "execution_count": 9,
   "metadata": {
    "pycharm": {
     "name": "#%%\n"
    }
   },
   "outputs": [
    {
     "data": {
      "text/plain": [
       "[]"
      ]
     },
     "execution_count": 9,
     "metadata": {},
     "output_type": "execute_result"
    }
   ],
   "source": [
    "result = solve(const_due_FV, n)\n",
    "result"
   ]
  },
  {
   "cell_type": "markdown",
   "metadata": {},
   "source": [
    "### Due - PV"
   ]
  },
  {
   "cell_type": "code",
   "execution_count": null,
   "metadata": {
    "pycharm": {
     "name": "#%%\n"
    }
   },
   "outputs": [],
   "source": [
    "result = solve(const_due_PV, PV)\n",
    "result"
   ]
  },
  {
   "cell_type": "markdown",
   "metadata": {},
   "source": [
    "## Arithmetically growing annuity"
   ]
  },
  {
   "cell_type": "markdown",
   "metadata": {},
   "source": [
    "### Immediate - FV"
   ]
  },
  {
   "cell_type": "code",
   "execution_count": null,
   "metadata": {
    "pycharm": {
     "name": "#%%\n"
    }
   },
   "outputs": [],
   "source": [
    "result = solve(arithm_immediate_FV, FV)\n",
    "result"
   ]
  },
  {
   "cell_type": "markdown",
   "metadata": {},
   "source": [
    "### Immediate - PV"
   ]
  },
  {
   "cell_type": "code",
   "execution_count": null,
   "metadata": {
    "pycharm": {
     "name": "#%%\n"
    }
   },
   "outputs": [],
   "source": [
    "result = solve(arithm_immediate_PV, PV)\n",
    "result"
   ]
  },
  {
   "cell_type": "markdown",
   "metadata": {},
   "source": [
    "### Due - FV"
   ]
  },
  {
   "cell_type": "code",
   "execution_count": null,
   "metadata": {
    "pycharm": {
     "name": "#%%\n"
    }
   },
   "outputs": [],
   "source": [
    "result = solve(arithm_due_FV, FV)\n",
    "result"
   ]
  },
  {
   "cell_type": "markdown",
   "metadata": {},
   "source": [
    "### Due - PV"
   ]
  },
  {
   "cell_type": "code",
   "execution_count": null,
   "metadata": {
    "pycharm": {
     "name": "#%%\n"
    }
   },
   "outputs": [],
   "source": [
    "result = solve(arithm_due_PV, PV)\n",
    "result\n"
   ]
  }
 ],
 "metadata": {
  "kernelspec": {
   "display_name": "Python 3",
   "language": "python",
   "name": "python3"
  },
  "language_info": {
   "codemirror_mode": {
    "name": "ipython",
    "version": 3
   },
   "file_extension": ".py",
   "mimetype": "text/x-python",
   "name": "python",
   "nbconvert_exporter": "python",
   "pygments_lexer": "ipython3",
   "version": "3.7.4"
  },
  "pycharm": {
   "stem_cell": {
    "cell_type": "raw",
    "source": [],
    "metadata": {
     "collapsed": false
    }
   }
  }
 },
 "nbformat": 4,
 "nbformat_minor": 1
}